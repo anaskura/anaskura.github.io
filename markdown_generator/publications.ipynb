{
 "cells": [
  {
   "cell_type": "markdown",
   "metadata": {
    "deletable": true,
    "editable": true
   },
   "source": [
    "# Publications markdown generator for academicpages\n",
    "\n",
    "Takes a TSV of publications with metadata and converts them for use with [academicpages.github.io](academicpages.github.io). This is an interactive Jupyter notebook ([see more info here](http://jupyter-notebook-beginner-guide.readthedocs.io/en/latest/what_is_jupyter.html)). The core python code is also in `publications.py`. Run either from the `markdown_generator` folder after replacing `publications.tsv` with one containing your data.\n",
    "\n",
    "TODO: Make this work with BibTex and other databases of citations, rather than Stuart's non-standard TSV format and citation style.\n"
   ]
  },
  {
   "cell_type": "markdown",
   "metadata": {},
   "source": [
    "## Data format\n",
    "\n",
    "The TSV needs to have the following columns: pub_date, title, venue, excerpt, citation, site_url, and paper_url, with a header at the top. \n",
    "\n",
    "- `excerpt` and `paper_url` can be blank, but the others must have values. \n",
    "- `pub_date` must be formatted as YYYY-MM-DD.\n",
    "- `url_slug` will be the descriptive part of the .md file and the permalink URL for the page about the paper. The .md file will be `YYYY-MM-DD-[url_slug].md` and the permalink will be `https://[yourdomain]/publications/YYYY-MM-DD-[url_slug]`\n",
    "\n",
    "This is how the raw file looks (it doesn't look pretty, use a spreadsheet or other program to edit and create)."
   ]
  },
  {
   "cell_type": "code",
   "execution_count": 169,
   "metadata": {
    "collapsed": false
   },
   "outputs": [
    {
     "name": "stdout",
     "output_type": "stream",
     "text": [
      "pub_date\ttitle\tvenue\texcerpt\tcitation\turl_slug\tpaper_url\tlink\tteaser\n",
      "2020-01-21\tAtomic limit and inversion-symmetry indicators for topological superconductors\t\"Phys. Rev. Research 2, 013064\"\t\"Symmetry indicators allow to identify topological crystalline insulators using symmetry-group analysis of their Bloch states. An extension of this approach to superconducting systems requires defining an appropriate atomic limit for superconductors. Here, we introduce such a notion of atomic limit and derive a symmetry indicator for inversion-symmetric superconductors. This indicator allows for a refined topological classification including higher-order phases for systems in the superconducting phase with and without time-reversal symmetry. We further elucidate their bulk-boundary correspondence using Dirac surface theories. This indicator is well suited for a search of topological superconductors using first-principles calculations.\n",
      "\"\t\"A. Skurativska, T. Neupert, and M. H. Fischer\"\tsym-indicators\t/files/sym-indicators.pdf\thttps://journals.aps.org/prresearch/abstract/10.1103/PhysRevResearch.2.013064\t/images/sym-indicators-teaser.png\n",
      "2021-08-09\tSpin response and topology of a staggered-Rashba superconductor\t\"Phys. Rev. Research 3, 033133\"\t\"Inversion symmetry is a key symmetry in unconventional superconductors, and even its local breaking can have profound implications. Non-centrosymmetric superconductors is a class of materials, that break inversion symmetry locally, while preserving it globally. For such systems, there is a competition on a microscopic level between the spin-orbit coupling associated with the local lack of inversion and hybridizing terms that “restore” inversion. Investigating a layered system with alternating mirror-symmetry breaking, we study this competition considering the spin response of different superconducting order parameters for the case of strong spin-orbit coupling. We also identify several regimes with possible topological superconducting phases using a symmetry-indicator analysis.\"\t\"A. Skurativska, M. Sigrist, and M. H. Fischer\"\trashba\t/files/rashba.pdf\thttps://journals.aps.org/prresearch/abstract/10.1103/PhysRevResearch.3.033133\t/images/rashba-teaser.png\n",
      "2021-07-02\t\"Flat bands with fragile topology through superlattice engineering on single-layer graphene\n",
      "\"\t\"Phys. Rev. Research 3, L032003\"\t\"Magic-angle twisted bilayer graphene has received a lot of interest due to its flat bands with potentially nontrivial topology that lead to intricate correlated phases. A spectrum with flat bands, however, does not require a twist between multiple sheets of two-dimensional materials, but can be realized with an appropriate periodic potential. Here, we propose the imposition of a tailored potential onto a single graphene layer through local perturbations that could be created via lithography or adatom manipulation, which also results in an energy spectrum featuring flat bands. First-principle calculations for an appropriate adatom decoration of graphene indeed show the presence of flat bands and a symmetry-indicator analysis further reveals the bands' topological nature. This nontrivial topology manifests itself in corner-localized states with a filling anomaly as we show using a tight-binding calculation. Our proposal of a single decorated graphene sheet provides a new versatile route to study correlated phases in topologically nontrivial, flat band structures.\"\t\"A. Skurativska, S. S. Tsirkin, F. D. Natterer, T. Neupert, and M. H. Fischer\"\tflat-band\t/files/flat-bands.pdf\thttps://journals.aps.org/prresearch/abstract/10.1103/PhysRevResearch.3.L032003\t/images/flat-bands-teaser.png\n",
      "2021-09-28\tExceptional topological insulators\t\"Nat. Comm. 12, 5681\"\t\"We introduce the exceptional topological insulator (ETI), a non-Hermitian topological state of matter that features exotic non-Hermitian surface states which can only exist within the three-dimensional topological bulk embedding. We show how this phase can evolve from a Weyl semimetal or Hermitian three-dimensional topological insulator close to criticality when quasiparticles acquire a finite lifetime. The ETI does not require any symmetry to be stabilized. It is characterized by a bulk energy point gap, and exhibits robust surface states that cover the bulk gap as a single sheet of complex eigenvalues or with a single exceptional point. The ETI can be induced universally in gapless solid-state systems, thereby setting a paradigm for non-Hermitian topological matter.\"\t\"M. M. Denner, A. Skurativska, F. Schindler, M. H Fischer, R. Thomale, T. Bzdušek, and T. Neupert\"\teti\t/files/eti.pdf\thttps://www.nature.com/articles/s41467-021-25947-z\t/images/eti-teaser.png\n",
      "2023-06-15\tRobust spin polarization of Yu-Shiba-Rusinov states in superconductor/ferromagnetic insulator heterostructures\t\"Phys. Rev. B 107, 224507\"\t\"Yu-Shiba-Rusinov states are subgap bound states of a magnetic impurity in a superconducting host. Usually magnetic impurities in such systems are modelled as classical spins. However, a wide selection of magnetic adatoms and substrates show experimental signatures, which are not adequately captured by such approach and require quantum treatment of impurity spin. In this work we take into account the quantum nature of the impurity spin in a single-site approximation to study a system of magnetic impurity in a spin-split superconductor, i.e., a superconductor in proximity to a ferromagnetic insulator. We investigate the spectral properties of the single-particle excitations and compare the results of this quantum approach to the classical approach, which conventionally predicts fully polarized YSR excitations even in the absence of exchange and external magnetic field.\"\t\"A. Skurativska, J. Ortuzar, D. Bercioux, F. S. Bergeret, and M. A. Cazalilla\"\tysr\t/files/ysr.pdf\thttps://journals.aps.org/prb/abstract/10.1103/PhysRevB.107.224507\t/images/ysr-teaser.png"
     ]
    }
   ],
   "source": [
    "!cat publications-upd.tsv"
   ]
  },
  {
   "cell_type": "markdown",
   "metadata": {},
   "source": [
    "## Import pandas\n",
    "\n",
    "We are using the very handy pandas library for dataframes."
   ]
  },
  {
   "cell_type": "code",
   "execution_count": 175,
   "metadata": {
    "collapsed": true,
    "deletable": true,
    "editable": true
   },
   "outputs": [],
   "source": [
    "import pandas as pd"
   ]
  },
  {
   "cell_type": "markdown",
   "metadata": {},
   "source": [
    "## Import TSV\n",
    "\n",
    "Pandas makes this easy with the read_csv function. We are using a TSV, so we specify the separator as a tab, or `\\t`.\n",
    "\n",
    "I found it important to put this data in a tab-separated values format, because there are a lot of commas in this kind of data and comma-separated values can get messed up. However, you can modify the import statement, as pandas also has read_excel(), read_json(), and others."
   ]
  },
  {
   "cell_type": "code",
   "execution_count": 176,
   "metadata": {
    "collapsed": false,
    "deletable": true,
    "editable": true
   },
   "outputs": [
    {
     "data": {
      "text/html": [
       "<div>\n",
       "<style scoped>\n",
       "    .dataframe tbody tr th:only-of-type {\n",
       "        vertical-align: middle;\n",
       "    }\n",
       "\n",
       "    .dataframe tbody tr th {\n",
       "        vertical-align: top;\n",
       "    }\n",
       "\n",
       "    .dataframe thead th {\n",
       "        text-align: right;\n",
       "    }\n",
       "</style>\n",
       "<table border=\"1\" class=\"dataframe\">\n",
       "  <thead>\n",
       "    <tr style=\"text-align: right;\">\n",
       "      <th></th>\n",
       "      <th>pub_date</th>\n",
       "      <th>title</th>\n",
       "      <th>venue</th>\n",
       "      <th>excerpt</th>\n",
       "      <th>citation</th>\n",
       "      <th>url_slug</th>\n",
       "      <th>paper_url</th>\n",
       "      <th>link</th>\n",
       "      <th>teaser</th>\n",
       "    </tr>\n",
       "  </thead>\n",
       "  <tbody>\n",
       "    <tr>\n",
       "      <th>0</th>\n",
       "      <td>2020-01-21</td>\n",
       "      <td>Atomic limit and inversion-symmetry indicators...</td>\n",
       "      <td>Phys. Rev. Research 2, 013064</td>\n",
       "      <td>Symmetry indicators allow to identify topologi...</td>\n",
       "      <td>A. Skurativska, T. Neupert, and M. H. Fischer</td>\n",
       "      <td>sym-indicators</td>\n",
       "      <td>/files/sym-indicators.pdf</td>\n",
       "      <td>https://journals.aps.org/prresearch/abstract/1...</td>\n",
       "      <td>/images/sym-indicators-teaser.png</td>\n",
       "    </tr>\n",
       "    <tr>\n",
       "      <th>1</th>\n",
       "      <td>2021-08-09</td>\n",
       "      <td>Spin response and topology of a staggered-Rash...</td>\n",
       "      <td>Phys. Rev. Research 3, 033133</td>\n",
       "      <td>Inversion symmetry is a key symmetry in unconv...</td>\n",
       "      <td>A. Skurativska, M. Sigrist, and M. H. Fischer</td>\n",
       "      <td>rashba</td>\n",
       "      <td>/files/rashba.pdf</td>\n",
       "      <td>https://journals.aps.org/prresearch/abstract/1...</td>\n",
       "      <td>/images/rashba-teaser.png</td>\n",
       "    </tr>\n",
       "    <tr>\n",
       "      <th>2</th>\n",
       "      <td>2021-07-02</td>\n",
       "      <td>Flat bands with fragile topology through super...</td>\n",
       "      <td>Phys. Rev. Research 3, L032003</td>\n",
       "      <td>Magic-angle twisted bilayer graphene has recei...</td>\n",
       "      <td>A. Skurativska, S. S. Tsirkin, F. D. Natterer,...</td>\n",
       "      <td>flat-band</td>\n",
       "      <td>/files/flat-bands.pdf</td>\n",
       "      <td>https://journals.aps.org/prresearch/abstract/1...</td>\n",
       "      <td>/images/flat-bands-teaser.png</td>\n",
       "    </tr>\n",
       "    <tr>\n",
       "      <th>3</th>\n",
       "      <td>2021-09-28</td>\n",
       "      <td>Exceptional topological insulators</td>\n",
       "      <td>Nat. Comm. 12, 5681</td>\n",
       "      <td>We introduce the exceptional topological insul...</td>\n",
       "      <td>M. M. Denner, A. Skurativska, F. Schindler, M....</td>\n",
       "      <td>eti</td>\n",
       "      <td>/files/eti.pdf</td>\n",
       "      <td>https://www.nature.com/articles/s41467-021-259...</td>\n",
       "      <td>/images/eti-teaser.png</td>\n",
       "    </tr>\n",
       "    <tr>\n",
       "      <th>4</th>\n",
       "      <td>2023-06-15</td>\n",
       "      <td>Robust spin polarization of Yu-Shiba-Rusinov s...</td>\n",
       "      <td>Phys. Rev. B 107, 224507</td>\n",
       "      <td>Yu-Shiba-Rusinov states are subgap bound state...</td>\n",
       "      <td>A. Skurativska, J. Ortuzar, D. Bercioux, F. S....</td>\n",
       "      <td>ysr</td>\n",
       "      <td>/files/ysr.pdf</td>\n",
       "      <td>https://journals.aps.org/prb/abstract/10.1103/...</td>\n",
       "      <td>/images/ysr-teaser.png</td>\n",
       "    </tr>\n",
       "  </tbody>\n",
       "</table>\n",
       "</div>"
      ],
      "text/plain": [
       "     pub_date                                              title  \\\n",
       "0  2020-01-21  Atomic limit and inversion-symmetry indicators...   \n",
       "1  2021-08-09  Spin response and topology of a staggered-Rash...   \n",
       "2  2021-07-02  Flat bands with fragile topology through super...   \n",
       "3  2021-09-28                 Exceptional topological insulators   \n",
       "4  2023-06-15  Robust spin polarization of Yu-Shiba-Rusinov s...   \n",
       "\n",
       "                            venue  \\\n",
       "0   Phys. Rev. Research 2, 013064   \n",
       "1   Phys. Rev. Research 3, 033133   \n",
       "2  Phys. Rev. Research 3, L032003   \n",
       "3             Nat. Comm. 12, 5681   \n",
       "4        Phys. Rev. B 107, 224507   \n",
       "\n",
       "                                             excerpt  \\\n",
       "0  Symmetry indicators allow to identify topologi...   \n",
       "1  Inversion symmetry is a key symmetry in unconv...   \n",
       "2  Magic-angle twisted bilayer graphene has recei...   \n",
       "3  We introduce the exceptional topological insul...   \n",
       "4  Yu-Shiba-Rusinov states are subgap bound state...   \n",
       "\n",
       "                                            citation        url_slug  \\\n",
       "0      A. Skurativska, T. Neupert, and M. H. Fischer  sym-indicators   \n",
       "1      A. Skurativska, M. Sigrist, and M. H. Fischer          rashba   \n",
       "2  A. Skurativska, S. S. Tsirkin, F. D. Natterer,...       flat-band   \n",
       "3  M. M. Denner, A. Skurativska, F. Schindler, M....             eti   \n",
       "4  A. Skurativska, J. Ortuzar, D. Bercioux, F. S....             ysr   \n",
       "\n",
       "                   paper_url  \\\n",
       "0  /files/sym-indicators.pdf   \n",
       "1          /files/rashba.pdf   \n",
       "2      /files/flat-bands.pdf   \n",
       "3             /files/eti.pdf   \n",
       "4             /files/ysr.pdf   \n",
       "\n",
       "                                                link  \\\n",
       "0  https://journals.aps.org/prresearch/abstract/1...   \n",
       "1  https://journals.aps.org/prresearch/abstract/1...   \n",
       "2  https://journals.aps.org/prresearch/abstract/1...   \n",
       "3  https://www.nature.com/articles/s41467-021-259...   \n",
       "4  https://journals.aps.org/prb/abstract/10.1103/...   \n",
       "\n",
       "                              teaser  \n",
       "0  /images/sym-indicators-teaser.png  \n",
       "1          /images/rashba-teaser.png  \n",
       "2      /images/flat-bands-teaser.png  \n",
       "3             /images/eti-teaser.png  \n",
       "4             /images/ysr-teaser.png  "
      ]
     },
     "execution_count": 176,
     "metadata": {},
     "output_type": "execute_result"
    }
   ],
   "source": [
    "publications = pd.read_csv(\"publications-upd.tsv\", sep=\"\\t\", header=0)\n",
    "publications\n"
   ]
  },
  {
   "cell_type": "markdown",
   "metadata": {},
   "source": [
    "## Escape special characters\n",
    "\n",
    "YAML is very picky about how it takes a valid string, so we are replacing single and double quotes (and ampersands) with their HTML encoded equivilents. This makes them look not so readable in raw format, but they are parsed and rendered nicely."
   ]
  },
  {
   "cell_type": "code",
   "execution_count": 177,
   "metadata": {
    "collapsed": true,
    "deletable": true,
    "editable": true
   },
   "outputs": [],
   "source": [
    "html_escape_table = {\n",
    "    \"&\": \"&amp;\",\n",
    "    '\"': \"&quot;\",\n",
    "    \"'\": \"&apos;\"\n",
    "    }\n",
    "\n",
    "def html_escape(text):\n",
    "    \"\"\"Produce entities within text.\"\"\"\n",
    "    return \"\".join(html_escape_table.get(c,c) for c in text)"
   ]
  },
  {
   "cell_type": "markdown",
   "metadata": {},
   "source": [
    "## Creating the markdown files\n",
    "\n",
    "This is where the heavy lifting is done. This loops through all the rows in the TSV dataframe, then starts to concatentate a big string (```md```) that contains the markdown for each type. It does the YAML metadata first, then does the description for the individual page."
   ]
  },
  {
   "cell_type": "code",
   "execution_count": 180,
   "metadata": {
    "collapsed": false,
    "deletable": true,
    "editable": true
   },
   "outputs": [
    {
     "name": "stdout",
     "output_type": "stream",
     "text": [
      "pub_date                                            2020-01-21\n",
      "title        Atomic limit and inversion-symmetry indicators...\n",
      "venue                            Phys. Rev. Research 2, 013064\n",
      "excerpt      Symmetry indicators allow to identify topologi...\n",
      "citation         A. Skurativska, T. Neupert, and M. H. Fischer\n",
      "url_slug                                        sym-indicators\n",
      "paper_url                            /files/sym-indicators.pdf\n",
      "link         https://journals.aps.org/prresearch/abstract/1...\n",
      "teaser                       /images/sym-indicators-teaser.png\n",
      "Name: 0, dtype: object\n",
      "print 2020\n",
      "pub_date                                            2021-08-09\n",
      "title        Spin response and topology of a staggered-Rash...\n",
      "venue                            Phys. Rev. Research 3, 033133\n",
      "excerpt      Inversion symmetry is a key symmetry in unconv...\n",
      "citation         A. Skurativska, M. Sigrist, and M. H. Fischer\n",
      "url_slug                                                rashba\n",
      "paper_url                                    /files/rashba.pdf\n",
      "link         https://journals.aps.org/prresearch/abstract/1...\n",
      "teaser                               /images/rashba-teaser.png\n",
      "Name: 1, dtype: object\n",
      "print 2021\n",
      "pub_date                                            2021-07-02\n",
      "title        Flat bands with fragile topology through super...\n",
      "venue                           Phys. Rev. Research 3, L032003\n",
      "excerpt      Magic-angle twisted bilayer graphene has recei...\n",
      "citation     A. Skurativska, S. S. Tsirkin, F. D. Natterer,...\n",
      "url_slug                                             flat-band\n",
      "paper_url                                /files/flat-bands.pdf\n",
      "link         https://journals.aps.org/prresearch/abstract/1...\n",
      "teaser                           /images/flat-bands-teaser.png\n",
      "Name: 2, dtype: object\n",
      "print 2021\n",
      "pub_date                                            2021-09-28\n",
      "title                       Exceptional topological insulators\n",
      "venue                                      Nat. Comm. 12, 5681\n",
      "excerpt      We introduce the exceptional topological insul...\n",
      "citation     M. M. Denner, A. Skurativska, F. Schindler, M....\n",
      "url_slug                                                   eti\n",
      "paper_url                                       /files/eti.pdf\n",
      "link         https://www.nature.com/articles/s41467-021-259...\n",
      "teaser                                  /images/eti-teaser.png\n",
      "Name: 3, dtype: object\n",
      "print 2021\n",
      "pub_date                                            2023-06-15\n",
      "title        Robust spin polarization of Yu-Shiba-Rusinov s...\n",
      "venue                                 Phys. Rev. B 107, 224507\n",
      "excerpt      Yu-Shiba-Rusinov states are subgap bound state...\n",
      "citation     A. Skurativska, J. Ortuzar, D. Bercioux, F. S....\n",
      "url_slug                                                   ysr\n",
      "paper_url                                       /files/ysr.pdf\n",
      "link         https://journals.aps.org/prb/abstract/10.1103/...\n",
      "teaser                                  /images/ysr-teaser.png\n",
      "Name: 4, dtype: object\n",
      "print 2023\n"
     ]
    }
   ],
   "source": [
    "import os\n",
    "for row, item in publications.iterrows():\n",
    "    \n",
    "    print(item)\n",
    "\n",
    "    md_filename = str(item.pub_date) + \"-\" + item.url_slug + \".md\"\n",
    "    html_filename = str(item.pub_date) + \"-\" + item.url_slug\n",
    "    year = item.pub_date[:4]\n",
    "\n",
    "    print('print',year)\n",
    "    \n",
    "    ## YAML variables\n",
    "    \n",
    "    md = \"---\\ntitle: \\\"\"   + item.title + '\"\\n'\n",
    "    \n",
    "    md += \"\"\"collection: publications\"\"\"\n",
    "    \n",
    "    md += \"\"\"\\npermalink: /publication/\"\"\" + html_filename\n",
    "    \n",
    "    if len(str(item.excerpt)) > 5:\n",
    "        md += \"\\nexcerpt: '\" + html_escape(item.excerpt) + \"'\"\n",
    "    \n",
    "    md += \"\\ndate: \" + str(item.pub_date) \n",
    "    \n",
    "    md += \"\\nvenue: '\" + html_escape(item.venue) + \"'\"\n",
    "    \n",
    "    if len(str(item.paper_url)) > 5:\n",
    "        md += \"\\npaperurl: '\" + item.paper_url + \"'\"\n",
    "    \n",
    "    \n",
    "    md += \"\\ncitation: '\" + html_escape(item.citation) + \"'\"\n",
    "\n",
    "    #this line was added to add link to paper online\n",
    "    if len(str(item.link)) > 5:\n",
    "        md += \"\\nexternallink: '\" + item.link + \"'\"\n",
    "\n",
    "    if len(str(item.teaser)) > 5:\n",
    "        md += \"\\nimage: '\" + item.teaser + \"'\"\n",
    "    \n",
    "\n",
    "    \n",
    "    md += \"\\n---\"\n",
    "\n",
    "        \n",
    "    ## Markdown description for individual page\n",
    "        \n",
    "    if len(str(item.excerpt)) > 5:\n",
    "        md += \"\\n\" + html_escape(item.excerpt) + \"\\n\"\n",
    "    \n",
    "    #if len(str(item.paper_url)) > 5:\n",
    "    #    md += \"\\n[PDF](\" + item.paper_url + \")\\n\" \n",
    "        \n",
    "    #md += \"\\nRecommended citation: \" + item.citation\n",
    "    \n",
    "    #md_filename = os.path.basename(md_filename)\n",
    "       \n",
    "    with open(\"../_publications/\" + md_filename, 'w') as f:\n",
    "        f.write(md)"
   ]
  },
  {
   "cell_type": "markdown",
   "metadata": {},
   "source": [
    "These files are in the publications directory, one directory below where we're working from."
   ]
  },
  {
   "cell_type": "code",
   "execution_count": 179,
   "metadata": {
    "collapsed": false,
    "deletable": true,
    "editable": true
   },
   "outputs": [
    {
     "name": "stdout",
     "output_type": "stream",
     "text": [
      "2020-01-21-sym-indicators.md 2021-09-28-eti.md\n",
      "2021-07-02-flat-band.md      2023-06-15-ysr.md\n",
      "2021-08-09-rashba.md\n"
     ]
    }
   ],
   "source": [
    "!ls ../_publications/"
   ]
  },
  {
   "cell_type": "code",
   "execution_count": 168,
   "metadata": {
    "collapsed": false,
    "deletable": true,
    "editable": true
   },
   "outputs": [],
   "source": [
    "#!cat ../_publications/2009-10-01-paper-title-number-1.md"
   ]
  },
  {
   "cell_type": "code",
   "execution_count": null,
   "metadata": {
    "collapsed": true,
    "deletable": true,
    "editable": true
   },
   "outputs": [],
   "source": []
  }
 ],
 "metadata": {
  "kernelspec": {
   "display_name": "Python 3",
   "language": "python",
   "name": "python3"
  },
  "language_info": {
   "codemirror_mode": {
    "name": "ipython",
    "version": 3
   },
   "file_extension": ".py",
   "mimetype": "text/x-python",
   "name": "python",
   "nbconvert_exporter": "python",
   "pygments_lexer": "ipython3",
   "version": "3.9.6"
  }
 },
 "nbformat": 4,
 "nbformat_minor": 0
}
